{
 "cells": [
  {
   "cell_type": "code",
   "execution_count": 111,
   "id": "a64790c1",
   "metadata": {},
   "outputs": [],
   "source": [
    "%run detector.ipynb"
   ]
  },
  {
   "cell_type": "code",
   "execution_count": 112,
   "id": "90e5e55c",
   "metadata": {},
   "outputs": [
    {
     "name": "stdout",
     "output_type": "stream",
     "text": [
      "Class list len: 92\n",
      "Color list len: 92\n",
      "Loading model: efficientdet_d2_coco17_tpu-32\n"
     ]
    },
    {
     "name": "stderr",
     "output_type": "stream",
     "text": [
      "WARNING:absl:Importing a function (__inference_EfficientDet-D2_layer_call_and_return_conditional_losses_130857) with ops with unsaved custom gradients. Will likely fail if a gradient is requested.\n",
      "WARNING:absl:Importing a function (__inference___call___38449) with ops with unsaved custom gradients. Will likely fail if a gradient is requested.\n",
      "WARNING:absl:Importing a function (__inference_EfficientDet-D2_layer_call_and_return_conditional_losses_145024) with ops with unsaved custom gradients. Will likely fail if a gradient is requested.\n",
      "WARNING:absl:Importing a function (__inference_bifpn_layer_call_and_return_conditional_losses_99017) with ops with unsaved custom gradients. Will likely fail if a gradient is requested.\n",
      "WARNING:absl:Importing a function (__inference_EfficientDet-D2_layer_call_and_return_conditional_losses_139687) with ops with unsaved custom gradients. Will likely fail if a gradient is requested.\n",
      "WARNING:absl:Importing a function (__inference_EfficientDet-D2_layer_call_and_return_conditional_losses_125520) with ops with unsaved custom gradients. Will likely fail if a gradient is requested.\n",
      "WARNING:absl:Importing a function (__inference_bifpn_layer_call_and_return_conditional_losses_101605) with ops with unsaved custom gradients. Will likely fail if a gradient is requested.\n"
     ]
    },
    {
     "name": "stdout",
     "output_type": "stream",
     "text": [
      "Model efficientdet_d2_coco17_tpu-32 loaded successfully...\n"
     ]
    }
   ],
   "source": [
    "class_file = 'coco.names'\n",
    "\n",
    "detector = Detector()\n",
    "detector.readClasses(class_file)\n",
    "\n",
    "quicker_model_url = \"http://download.tensorflow.org/models/object_detection/tf2/20200711/centernet_resnet50_v1_fpn_512x512_coco17_tpu-8.tar.gz\"\n",
    "medium_model_url = \"http://download.tensorflow.org/models/object_detection/tf2/20200711/efficientdet_d2_coco17_tpu-32.tar.gz\"\n",
    "slower_model_url = \"http://download.tensorflow.org/models/object_detection/tf2/20200711/efficientdet_d4_coco17_tpu-32.tar.gz\"\n",
    "detector.downloadModel(slower_model_url)\n",
    "\n",
    "detector.loadModel()"
   ]
  },
  {
   "cell_type": "code",
   "execution_count": 113,
   "id": "529e5b4f",
   "metadata": {},
   "outputs": [
    {
     "name": "stdout",
     "output_type": "stream",
     "text": [
      "images/test_images\n",
      "images/test_images\\output_folder\n",
      "images/test_images\\PXL_20240502_141506959.jpg\n",
      "images/test_images\\PXL_20240502_141511657.MP.jpg\n",
      "images/test_images\\PXL_20240502_141513694.MP.jpg\n",
      "images/test_images\\PXL_20240502_141522020.jpg\n",
      "images/test_images\\PXL_20240502_141529099.MP.jpg\n",
      "images/test_images\\PXL_20240502_142037362.jpg\n",
      "images/test_images\\PXL_20240502_142038769.MP.jpg\n",
      "images/test_images\\PXL_20240502_143658932.jpg\n",
      "images/test_images\\PXL_20240502_143704192.jpg\n",
      "images/test_images\\PXL_20240502_143744366.MP.jpg\n",
      "images/test_images\\PXL_20240502_145402237.jpg\n",
      "images/test_images\\PXL_20240502_145405189.MP.jpg\n"
     ]
    }
   ],
   "source": [
    "folder_dir = \"images/input_images\"\n",
    "detector.predictFolder(folder_dir, threshold = 0.5, save = 1)"
   ]
  },
  {
   "cell_type": "code",
   "execution_count": 92,
   "id": "73aa1f85",
   "metadata": {},
   "outputs": [],
   "source": [
    "image_path = \"images/basketball.png\"\n",
    "detector.predictImage(image_path, 0.5)"
   ]
  },
  {
   "cell_type": "code",
   "execution_count": null,
   "id": "55b31c34",
   "metadata": {},
   "outputs": [],
   "source": []
  }
 ],
 "metadata": {
  "kernelspec": {
   "display_name": "Python [conda env:base] *",
   "language": "python",
   "name": "conda-base-py"
  },
  "language_info": {
   "codemirror_mode": {
    "name": "ipython",
    "version": 3
   },
   "file_extension": ".py",
   "mimetype": "text/x-python",
   "name": "python",
   "nbconvert_exporter": "python",
   "pygments_lexer": "ipython3",
   "version": "3.12.7"
  }
 },
 "nbformat": 4,
 "nbformat_minor": 5
}
